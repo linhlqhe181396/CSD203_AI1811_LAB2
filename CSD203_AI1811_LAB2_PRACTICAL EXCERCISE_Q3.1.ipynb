{
 "cells": [
  {
   "cell_type": "code",
   "execution_count": 9,
   "id": "735edda9",
   "metadata": {},
   "outputs": [
    {
     "name": "stdout",
     "output_type": "stream",
     "text": [
      "Stack elements:\n",
      "ewedwd fdsfsd jkdsad empty? False\n",
      "after pop:\n",
      "fdsfsd jkdsad top element of the stack:\n",
      "fdsfsd\n",
      "after clear:\n"
     ]
    }
   ],
   "source": [
    "class Stack:\n",
    "    def __init__(self):\n",
    "        self._data = []\n",
    "    def push(self, item):\n",
    "        self._data.append(item)\n",
    "    def __len__(self):\n",
    "        return len(self._data)\n",
    "    def isEmpty(self):\n",
    "        return len(self._data) == 0\n",
    "    def pop(self):\n",
    "        if not self.isEmpty():\n",
    "            self._data.pop()\n",
    "        else:\n",
    "            print(\"Stack has been cleared\")\n",
    "    def clear(self):\n",
    "        self._data = []\n",
    "    def top(self):\n",
    "        if self.isEmpty():\n",
    "            print('Stack is empty')\n",
    "        return self._data[-1]\n",
    "    def traversal(self):\n",
    "        for i in reversed(self._data):\n",
    "            print(i, end=' ')\n",
    "def Main():\n",
    "    stack = Stack()\n",
    "    stack.push(\"jkdsad\")\n",
    "    stack.push(\"fdsfsd\")\n",
    "    stack.push(\"ewedwd\")\n",
    "\n",
    "    print(\"Stack elements:\")\n",
    "    stack.traversal()\n",
    "    \n",
    "    print(\"empty?\", stack.isEmpty())\n",
    "    stack.pop()\n",
    "    print(\"after pop:\")\n",
    "    stack.traversal()\n",
    "    top_element = stack.top()\n",
    "    print(\"top element of the stack:\")\n",
    "    print(top_element)\n",
    "    stack.clear()\n",
    "    print(\"after clear:\")\n",
    "    stack.traversal()\n",
    "\n",
    "Main()\n"
   ]
  },
  {
   "cell_type": "code",
   "execution_count": null,
   "id": "81ed116b",
   "metadata": {},
   "outputs": [],
   "source": []
  }
 ],
 "metadata": {
  "celltoolbar": "Raw Cell Format",
  "kernelspec": {
   "display_name": "Python 3 (ipykernel)",
   "language": "python",
   "name": "python3"
  },
  "language_info": {
   "codemirror_mode": {
    "name": "ipython",
    "version": 3
   },
   "file_extension": ".py",
   "mimetype": "text/x-python",
   "name": "python",
   "nbconvert_exporter": "python",
   "pygments_lexer": "ipython3",
   "version": "3.11.5"
  }
 },
 "nbformat": 4,
 "nbformat_minor": 5
}
