{
 "cells": [
  {
   "cell_type": "code",
   "execution_count": 10,
   "id": "c6d0b6b9",
   "metadata": {},
   "outputs": [
    {
     "name": "stdout",
     "output_type": "stream",
     "text": [
      "type your dec number: 30\n",
      "1 1 1 1 0 "
     ]
    }
   ],
   "source": [
    "class Stack:\n",
    "    def __init__(self):\n",
    "        self._data = []\n",
    "    def push(self,item):\n",
    "        self._data.append(item)\n",
    "    def __len__(data):\n",
    "        return len(self._data)\n",
    "    def isEmpty(self):\n",
    "        return len(self._data) == 0\n",
    "    def pop(self):\n",
    "        if not self.isEmpty():\n",
    "            self._data.pop()\n",
    "        else:\n",
    "            print(\"stack has been cleared\")          \n",
    "    def clear(self):\n",
    "        self.item = []\n",
    "    def top(self):\n",
    "        if self.isEmpty():\n",
    "            print('stack is empty')\n",
    "        return self._data[-1]\n",
    "    def traversal(self):\n",
    "        for i in reversed(self._data):\n",
    "            print(i, end = ' ')\n",
    "def decTobin():\n",
    "    item = int(input('type your dec number: '))\n",
    "    while True:\n",
    "        new = item % 2\n",
    "        stack.push(new)\n",
    "        item = item//2\n",
    "        if item == 0:\n",
    "            break\n",
    "    stack.traversal()    \n"
   ]
  },
  {
   "cell_type": "code",
   "execution_count": null,
   "id": "576e78db",
   "metadata": {},
   "outputs": [],
   "source": []
  },
  {
   "cell_type": "code",
   "execution_count": 9,
   "id": "aee0b13e",
   "metadata": {},
   "outputs": [
    {
     "data": {
      "text/plain": [
       "30"
      ]
     },
     "execution_count": 9,
     "metadata": {},
     "output_type": "execute_result"
    }
   ],
   "source": [
    "30\n"
   ]
  },
  {
   "cell_type": "code",
   "execution_count": null,
   "id": "be63aec0",
   "metadata": {},
   "outputs": [],
   "source": []
  }
 ],
 "metadata": {
  "kernelspec": {
   "display_name": "Python 3 (ipykernel)",
   "language": "python",
   "name": "python3"
  },
  "language_info": {
   "codemirror_mode": {
    "name": "ipython",
    "version": 3
   },
   "file_extension": ".py",
   "mimetype": "text/x-python",
   "name": "python",
   "nbconvert_exporter": "python",
   "pygments_lexer": "ipython3",
   "version": "3.11.5"
  }
 },
 "nbformat": 4,
 "nbformat_minor": 5
}
