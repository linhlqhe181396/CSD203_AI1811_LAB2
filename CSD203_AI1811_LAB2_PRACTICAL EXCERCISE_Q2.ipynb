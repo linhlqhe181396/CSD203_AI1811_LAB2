{
 "cells": [
  {
   "cell_type": "code",
   "execution_count": 10,
   "id": "44620909",
   "metadata": {
    "scrolled": true
   },
   "outputs": [
    {
     "name": "stdout",
     "output_type": "stream",
     "text": [
      "20 19 18 17 \n"
     ]
    }
   ],
   "source": [
    "class Queue:\n",
    "    default_capacity = 20\n",
    "\n",
    "    def __init__(self):\n",
    "        self._data = [None] * Queue.default_capacity\n",
    "        self._size = 0\n",
    "        self._front = 0\n",
    "\n",
    "    def __len__(self):\n",
    "        return self._size\n",
    "\n",
    "    def isEmpty(self):\n",
    "        return self._size == 0\n",
    "\n",
    "    def first(self):\n",
    "        return self._data[self._front]\n",
    "\n",
    "    def dequeue(self):\n",
    "        answer = self._data[self._front]\n",
    "        self._data[self._front] = None\n",
    "        self._front = (self._front + 1) % len(self._data)\n",
    "        self._size -= 1\n",
    "        return answer\n",
    "\n",
    "    def enqueue(self, item):\n",
    "        if self._size == len(self._data):\n",
    "            self._resize(2 * len(self._data))\n",
    "        avail = (self._front + self._size) % len(self._data)\n",
    "        self._data[avail] = item\n",
    "        self._size += 1\n",
    "\n",
    "    def _resize(self, cap):\n",
    "        old = self._data\n",
    "        self._data = [None] * cap\n",
    "        walk = self._front\n",
    "        for k in range(self._size):\n",
    "            self._data[k] = old[walk]\n",
    "            walk = (walk + 1) % len(old)\n",
    "        self._front = 0\n",
    "    def traversal(self):\n",
    "        current = self._front\n",
    "        for i in range(self._size):\n",
    "            print(self._data[current],end= ' ')\n",
    "            current = (current+1)% len(self._data)\n",
    "        print()\n",
    "            \n",
    "\n",
    "que = Queue()\n",
    "que.enqueue(20)\n",
    "que.enqueue(19)\n",
    "que.enqueue(18)\n",
    "que.enqueue(17)\n",
    "que.traversal()\n",
    "\n"
   ]
  },
  {
   "cell_type": "code",
   "execution_count": null,
   "id": "c2d69c76",
   "metadata": {},
   "outputs": [],
   "source": []
  }
 ],
 "metadata": {
  "kernelspec": {
   "display_name": "Python 3 (ipykernel)",
   "language": "python",
   "name": "python3"
  },
  "language_info": {
   "codemirror_mode": {
    "name": "ipython",
    "version": 3
   },
   "file_extension": ".py",
   "mimetype": "text/x-python",
   "name": "python",
   "nbconvert_exporter": "python",
   "pygments_lexer": "ipython3",
   "version": "3.11.5"
  }
 },
 "nbformat": 4,
 "nbformat_minor": 5
}
